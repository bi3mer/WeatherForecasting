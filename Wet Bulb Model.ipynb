{
 "cells": [
  {
   "cell_type": "markdown",
   "metadata": {},
   "source": [
    "# Prepare Data"
   ]
  },
  {
   "cell_type": "code",
   "execution_count": 15,
   "metadata": {
    "collapsed": false
   },
   "outputs": [],
   "source": [
    "field_indexes = {\n",
    "    'Wban Number': 0,\n",
    "    'YearMonthDay,Time': 1,\n",
    "    'StationType': 2,\n",
    "    'MaintenanceIndicator': 3,\n",
    "    'SkyConditions': 4,\n",
    "    'Visibility,Weather Type': 5,\n",
    "    'DryBulb Temp': 6,\n",
    "    'DewPoint Temp': 7,\n",
    "    'WetBulb Temp': 9,\n",
    "    '% Relative Humidity': 10,\n",
    "    'WindSpeed (kt)': 11,\n",
    "    'WindDirection': 12,\n",
    "    'WindChar. Gusts (kt)': 13,\n",
    "    'Valfor Wind Char.': 14,\n",
    "    'StationPressure': 15,\n",
    "    'PressureTendency': 16,\n",
    "    'SeaLevel Pressure': 17,\n",
    "    'RecordType': 18,\n",
    "    'Precip.Total': 19\n",
    "}"
   ]
  },
  {
   "cell_type": "code",
   "execution_count": 71,
   "metadata": {
    "collapsed": false
   },
   "outputs": [],
   "source": [
    "from sklearn.cross_validation import train_test_split\n",
    "from sklearn.svm import SVC\n",
    "from sklearn import linear_model\n",
    "from sklearn import metrics \n",
    "\n",
    "import matplotlib.pyplot as plt\n",
    "import numpy as np\n",
    "\n",
    "%matplotlib inline"
   ]
  },
  {
   "cell_type": "code",
   "execution_count": 72,
   "metadata": {
    "collapsed": true
   },
   "outputs": [],
   "source": [
    "f = open('./WeatherDirs/199610hourly.txt', 'rb')"
   ]
  },
  {
   "cell_type": "code",
   "execution_count": 73,
   "metadata": {
    "collapsed": true
   },
   "outputs": [],
   "source": [
    "# split by new lines\n",
    "new_line = f.read().split('\\n')"
   ]
  },
  {
   "cell_type": "code",
   "execution_count": 74,
   "metadata": {
    "collapsed": true
   },
   "outputs": [],
   "source": [
    "# split into rows, and take all except for the named row and last empty row\n",
    "rows = [row.split(',') for row in new_line][1:][:-1]"
   ]
  },
  {
   "cell_type": "code",
   "execution_count": 75,
   "metadata": {
    "collapsed": false
   },
   "outputs": [],
   "source": [
    "def update_field(data, index, value):\n",
    "    for i in range(len(rows)):\n",
    "        if rows[i][index] == '-' or rows[i][index] == '' or rows[i][index] == '*** ':\n",
    "            rows[i][index] = value\n",
    "        else:\n",
    "            rows[i][index] = float(rows[i][index])"
   ]
  },
  {
   "cell_type": "code",
   "execution_count": 76,
   "metadata": {
    "collapsed": false
   },
   "outputs": [],
   "source": [
    "# update fields\n",
    "keeper_fields = ['WetBulb Temp', '% Relative Humidity', 'WindSpeed (kt)', 'WindDirection',\\\n",
    "                 'StationPressure', 'PressureTendency']\n",
    "\n",
    "for field in keeper_fields:\n",
    "    update_field(rows, field_indexes[field], 0)"
   ]
  },
  {
   "cell_type": "code",
   "execution_count": 77,
   "metadata": {
    "collapsed": true
   },
   "outputs": [],
   "source": [
    "keeper_field_indexes = [field_indexes[field] for field in keeper_fields]"
   ]
  },
  {
   "cell_type": "code",
   "execution_count": 78,
   "metadata": {
    "collapsed": false
   },
   "outputs": [],
   "source": [
    "# delete bad fields\n",
    "for row in rows:\n",
    "    # go through each row in reverse order\n",
    "    for i in range(len(row) - 1, 0, -1):\n",
    "        if i not in keeper_field_indexes:\n",
    "            del row[i]\n",
    "    \n",
    "    # kill off first column as well\n",
    "    del row[0]"
   ]
  },
  {
   "cell_type": "markdown",
   "metadata": {},
   "source": [
    "# ML to get WetBulb Temperature"
   ]
  },
  {
   "cell_type": "markdown",
   "metadata": {},
   "source": [
    "## Format Data"
   ]
  },
  {
   "cell_type": "code",
   "execution_count": 79,
   "metadata": {
    "collapsed": false
   },
   "outputs": [],
   "source": [
    "data    = np.array([row[1:] for row in rows])\n",
    "answers = np.array([row[0]  for row in rows])"
   ]
  },
  {
   "cell_type": "markdown",
   "metadata": {},
   "source": [
    "## Split Data"
   ]
  },
  {
   "cell_type": "code",
   "execution_count": 80,
   "metadata": {
    "collapsed": false
   },
   "outputs": [],
   "source": [
    "X_train, X_test, y_train, y_test = train_test_split(data, answers, test_size=0.2, random_state=42)"
   ]
  },
  {
   "cell_type": "markdown",
   "metadata": {},
   "source": [
    "## Machine Learing"
   ]
  },
  {
   "cell_type": "code",
   "execution_count": 81,
   "metadata": {
    "collapsed": false,
    "scrolled": false
   },
   "outputs": [],
   "source": [
    "lin = linear_model.LinearRegression()"
   ]
  },
  {
   "cell_type": "code",
   "execution_count": 82,
   "metadata": {
    "collapsed": false
   },
   "outputs": [
    {
     "data": {
      "text/plain": [
       "LinearRegression(copy_X=True, fit_intercept=True, n_jobs=1, normalize=False)"
      ]
     },
     "execution_count": 82,
     "metadata": {},
     "output_type": "execute_result"
    }
   ],
   "source": [
    "lin.fit(X_train, y_train)"
   ]
  },
  {
   "cell_type": "code",
   "execution_count": 83,
   "metadata": {
    "collapsed": false
   },
   "outputs": [
    {
     "name": "stdout",
     "output_type": "stream",
     "text": [
      "Accuracy: 74.8853606202%\n"
     ]
    }
   ],
   "source": [
    "lin_pred = lin.predict(X_test)\n",
    "print \"Accuracy: \" + str(metrics.explained_variance_score(y_test, lin_pred) * 100 ) + \"%\""
   ]
  },
  {
   "cell_type": "markdown",
   "metadata": {},
   "source": [
    "## Sample Prediction"
   ]
  },
  {
   "cell_type": "markdown",
   "metadata": {},
   "source": [
    "``` Python\n",
    "X_test[1] = [33.5, 45, 4, 0, 29.58] \n",
    "```\n",
    "should yield 48.0"
   ]
  },
  {
   "cell_type": "code",
   "execution_count": 84,
   "metadata": {
    "collapsed": false,
    "scrolled": true
   },
   "outputs": [
    {
     "name": "stdout",
     "output_type": "stream",
     "text": [
      "36.0\n",
      "[ 33.5635409]\n"
     ]
    }
   ],
   "source": [
    "print y_test[1]\n",
    "print lin.predict([X_test[1]])"
   ]
  },
  {
   "cell_type": "markdown",
   "metadata": {},
   "source": [
    "As can be seen we are fairly close with this method. Not perfect, but in the right ball park."
   ]
  }
 ],
 "metadata": {
  "anaconda-cloud": {},
  "kernelspec": {
   "display_name": "Python [Root]",
   "language": "python",
   "name": "Python [Root]"
  },
  "language_info": {
   "codemirror_mode": {
    "name": "ipython",
    "version": 2
   },
   "file_extension": ".py",
   "mimetype": "text/x-python",
   "name": "python",
   "nbconvert_exporter": "python",
   "pygments_lexer": "ipython2",
   "version": "2.7.12"
  }
 },
 "nbformat": 4,
 "nbformat_minor": 0
}
