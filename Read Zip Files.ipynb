{
 "cells": [
  {
   "cell_type": "markdown",
   "metadata": {},
   "source": [
    "# Read Data from Web"
   ]
  },
  {
   "cell_type": "code",
   "execution_count": 2,
   "metadata": {
    "collapsed": true
   },
   "outputs": [],
   "source": [
    "import urllib2"
   ]
  },
  {
   "cell_type": "code",
   "execution_count": 22,
   "metadata": {
    "collapsed": true
   },
   "outputs": [],
   "source": [
    "BASE_URL = 'http://www.ncdc.noaa.gov/orders/qclcd/'"
   ]
  },
  {
   "cell_type": "code",
   "execution_count": 5,
   "metadata": {
    "collapsed": true
   },
   "outputs": [],
   "source": [
    "response = urllib2.urlopen(BASE_URL)\n",
    "html = response.read()"
   ]
  },
  {
   "cell_type": "markdown",
   "metadata": {},
   "source": [
    "# Parse out Zip files"
   ]
  },
  {
   "cell_type": "markdown",
   "metadata": {},
   "source": [
    "This code works by doing the following:\n",
    "1. split on .zip files so we have a large array\n",
    "2. remove the first and last element\n",
    "3. remove alternating elements \n",
    "4. loop through the list created in stepps 1 through 3\n",
    "     * remove the string \">\n",
    "     * add .zip to end"
   ]
  },
  {
   "cell_type": "code",
   "execution_count": 48,
   "metadata": {
    "collapsed": false,
    "scrolled": false
   },
   "outputs": [],
   "source": [
    "zip_files = [item.strip('\">') + '.zip' for item in html.split('.zip')[1:][:-1][0::2]]"
   ]
  },
  {
   "cell_type": "markdown",
   "metadata": {},
   "source": [
    "# Download Zip Folders"
   ]
  },
  {
   "cell_type": "code",
   "execution_count": 73,
   "metadata": {
    "collapsed": false
   },
   "outputs": [],
   "source": [
    "from tqdm import tqdm_notebook as tqdm\n",
    "import os.path\n",
    "\n",
    "ZIP_DIRECTORY = 'WeatherZipFiles/'"
   ]
  },
  {
   "cell_type": "code",
   "execution_count": 58,
   "metadata": {
    "collapsed": false
   },
   "outputs": [
    {
     "name": "stdout",
     "output_type": "stream",
     "text": [
      "\n"
     ]
    }
   ],
   "source": [
    "%%time \n",
    "\n",
    "# loop through zip files\n",
    "for zip_file in tqdm(zip_files):\n",
    "    file_name = ZIP_DIRECTORY + zip_file\n",
    "    \n",
    "    if not os.path.exists(file_name):\n",
    "        # get zip file\n",
    "        response = urllib2.urlopen(BASE_URL + zip_file)\n",
    "        zipcontent= response.read()\n",
    "\n",
    "        # save zip file\n",
    "        with open(file_name, 'w') as f:\n",
    "            f.write(zipcontent)"
   ]
  },
  {
   "cell_type": "markdown",
   "metadata": {},
   "source": [
    "# Unzip Folders and Move to New Directory"
   ]
  },
  {
   "cell_type": "code",
   "execution_count": 69,
   "metadata": {
    "collapsed": true
   },
   "outputs": [],
   "source": [
    "import zipfile \n",
    "\n",
    "EXTRACTED_DIRECTORY = 'WeatherDirs/'"
   ]
  },
  {
   "cell_type": "markdown",
   "metadata": {},
   "source": [
    " loop through zip folders and ignore the first entry which is '.DS_STORE'"
   ]
  },
  {
   "cell_type": "code",
   "execution_count": 84,
   "metadata": {
    "collapsed": false,
    "scrolled": true
   },
   "outputs": [],
   "source": [
    "for zip_file in tqdm(os.listdir(ZIP_DIRECTORY)[1:]):\n",
    "    dir_name = EXTRACTED_DIRECTORY + zip_file.strip('.zip')\n",
    "    zip_name = ZIP_DIRECTORY + zip_file\n",
    "\n",
    "    # check if directory already exists\n",
    "    if not os.path.exists(dir_name):\n",
    "        # open zip\n",
    "        zip_folder = zipfile.ZipFile(zip_name)  \n",
    "\n",
    "        # extract zip\n",
    "        zip_folder.extractall(dir_name)\n",
    "\n",
    "        # delete zip file\n",
    "        os.remove(zip_name)"
   ]
  }
 ],
 "metadata": {
  "kernelspec": {
   "display_name": "Python [Root]",
   "language": "python",
   "name": "Python [Root]"
  },
  "language_info": {
   "codemirror_mode": {
    "name": "ipython",
    "version": 2
   },
   "file_extension": ".py",
   "mimetype": "text/x-python",
   "name": "python",
   "nbconvert_exporter": "python",
   "pygments_lexer": "ipython2",
   "version": "2.7.12"
  }
 },
 "nbformat": 4,
 "nbformat_minor": 0
}
