{
 "cells": [
  {
   "cell_type": "code",
   "execution_count": 1,
   "metadata": {
    "collapsed": true
   },
   "outputs": [],
   "source": [
    "%matplotlib inline\n",
    "%run ./lorenz_system.py\n",
    "from sklearn import linear_model\n",
    "from sklearn.preprocessing import PolynomialFeatures\n",
    "from sklearn.pipeline import make_pipeline\n",
    "from matplotlib import cm\n",
    "import matplotlib\n",
    "import numpy as np\n",
    "import urllib2\n",
    "import random\n",
    "import math"
   ]
  },
  {
   "cell_type": "code",
   "execution_count": 2,
   "metadata": {
    "collapsed": true
   },
   "outputs": [],
   "source": [
    "num_pressure_systems = 2\n",
    "max_border_length = 20\n",
    "low_pressure = 'blue'\n",
    "high_pressure = 'red'\n",
    "force = 2\n",
    "x='x'\n",
    "y='y'\n",
    "t='t'\n",
    "pressure_types = [low_pressure, high_pressure]\n",
    "pressure_systems = []"
   ]
  },
  {
   "cell_type": "markdown",
   "metadata": {},
   "source": [
    "Initialize systems with random starting points and pressure types."
   ]
  },
  {
   "cell_type": "code",
   "execution_count": 3,
   "metadata": {
    "collapsed": false
   },
   "outputs": [],
   "source": [
    "for i in range(num_pressure_systems):\n",
    "    pressure_systems.append({'x': [], 'y':[],'t':random.choice(pressure_types)})\n",
    "    \n",
    "    # give random coordinate for first point\n",
    "    pressure_systems[i][x].append(random.randrange(-max_border_length, max_border_length))\n",
    "    pressure_systems[i][y].append(random.randrange(-max_border_length, max_border_length))"
   ]
  },
  {
   "cell_type": "code",
   "execution_count": 10,
   "metadata": {
    "collapsed": false,
    "scrolled": false
   },
   "outputs": [],
   "source": [
    "def plot_points():\n",
    "    fig = plt.figure()\n",
    "    ax = fig.gca()\n",
    "    \n",
    "    # set plot details\n",
    "    fig.set_figheight(max_border_length)\n",
    "    fig.set_figwidth(max_border_length)\n",
    "\n",
    "    # set axis limits\n",
    "    limit_max = max_border_length * max_border_length\n",
    "    ax.set_ylim(-limit_max, limit_max)\n",
    "    ax.set_xlim(-limit_max, limit_max)\n",
    "    \n",
    "    # plot each system\n",
    "    for system in pressure_systems:\n",
    "        ax.plot(system[x], system[y], '*-', color=system[t])"
   ]
  },
  {
   "cell_type": "markdown",
   "metadata": {},
   "source": [
    "This will simulate a step in time where the two pressure systems interact with eachother. For reference the following list shows what happens when there are two systems.\n",
    "1. low and high: clockwise rotation\n",
    "2. high and high: away from\n",
    "3. low and low: away from"
   ]
  },
  {
   "cell_type": "code",
   "execution_count": 9,
   "metadata": {
    "collapsed": false
   },
   "outputs": [
    {
     "name": "stdout",
     "output_type": "stream",
     "text": [
      "opposite\n",
      "opposite\n"
     ]
    }
   ],
   "source": [
    "for i in range(num_pressure_systems):\n",
    "    # get current system\n",
    "    system = pressure_systems[i]\n",
    "    \n",
    "    # apply forces from other systems\n",
    "    for j in range(num_pressure_systems):\n",
    "        # ignore this current pressure system\n",
    "        if i == j:\n",
    "            continue\n",
    "        \n",
    "        # check if pressure system types match\n",
    "        if system[t] == pressure_systems[j][t]:\n",
    "            # apply rotational direction force\n",
    "            print 'same'\n",
    "        else:\n",
    "            print 'opposite'"
   ]
  },
  {
   "cell_type": "code",
   "execution_count": null,
   "metadata": {
    "collapsed": true
   },
   "outputs": [],
   "source": []
  }
 ],
 "metadata": {
  "kernelspec": {
   "display_name": "Python [Root]",
   "language": "python",
   "name": "Python [Root]"
  },
  "language_info": {
   "codemirror_mode": {
    "name": "ipython",
    "version": 2
   },
   "file_extension": ".py",
   "mimetype": "text/x-python",
   "name": "python",
   "nbconvert_exporter": "python",
   "pygments_lexer": "ipython2",
   "version": "2.7.12"
  }
 },
 "nbformat": 4,
 "nbformat_minor": 0
}
