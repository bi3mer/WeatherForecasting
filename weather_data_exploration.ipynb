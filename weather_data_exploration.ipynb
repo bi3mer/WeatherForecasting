{
 "cells": [
  {
   "cell_type": "markdown",
   "metadata": {},
   "source": [
    "# Imports"
   ]
  },
  {
   "cell_type": "code",
   "execution_count": 23,
   "metadata": {
    "collapsed": false
   },
   "outputs": [],
   "source": [
    "from tqdm import tqdm_notebook as tqdm\n",
    "import matplotlib\n",
    "import time\n",
    "import csv"
   ]
  },
  {
   "cell_type": "code",
   "execution_count": 24,
   "metadata": {
    "collapsed": false
   },
   "outputs": [],
   "source": [
    "%matplotlib inline\n",
    "\n",
    "import matplotlib\n",
    "import numpy as np\n",
    "import matplotlib.pyplot as plt"
   ]
  },
  {
   "cell_type": "markdown",
   "metadata": {
    "collapsed": true
   },
   "source": [
    "# Sample Hourly Data"
   ]
  },
  {
   "cell_type": "markdown",
   "metadata": {},
   "source": [
    "## Count"
   ]
  },
  {
   "cell_type": "code",
   "execution_count": 31,
   "metadata": {
    "collapsed": false
   },
   "outputs": [],
   "source": [
    "csv_reader = csv.DictReader(open('./WeatherDirs/QCLCD200705/200705hourly.txt', 'r'))"
   ]
  },
  {
   "cell_type": "code",
   "execution_count": 28,
   "metadata": {
    "collapsed": false
   },
   "outputs": [
    {
     "name": "stdout",
     "output_type": "stream",
     "text": [
      "2141026\n"
     ]
    }
   ],
   "source": [
    "count = 0\n",
    "for i in csv_reader:\n",
    "    count += 1\n",
    "    \n",
    "print count"
   ]
  },
  {
   "cell_type": "markdown",
   "metadata": {
    "collapsed": true
   },
   "source": [
    "from one set of hourly data we have 2,141,026 entries. This is more than enough data and the rest of it while cool, is not necessary to get a good start"
   ]
  },
  {
   "cell_type": "markdown",
   "metadata": {},
   "source": [
    "## Field Names"
   ]
  },
  {
   "cell_type": "code",
   "execution_count": 29,
   "metadata": {
    "collapsed": false
   },
   "outputs": [
    {
     "data": {
      "text/plain": [
       "['WBAN',\n",
       " 'Date',\n",
       " 'Time',\n",
       " 'StationType',\n",
       " 'SkyCondition',\n",
       " 'SkyConditionFlag',\n",
       " 'Visibility',\n",
       " 'VisibilityFlag',\n",
       " 'WeatherType',\n",
       " 'WeatherTypeFlag',\n",
       " 'DryBulbFarenheit',\n",
       " 'DryBulbFarenheitFlag',\n",
       " 'DryBulbCelsius',\n",
       " 'DryBulbCelsiusFlag',\n",
       " 'WetBulbFarenheit',\n",
       " 'WetBulbFarenheitFlag',\n",
       " 'WetBulbCelsius',\n",
       " 'WetBulbCelsiusFlag',\n",
       " 'DewPointFarenheit',\n",
       " 'DewPointFarenheitFlag',\n",
       " 'DewPointCelsius',\n",
       " 'DewPointCelsiusFlag',\n",
       " 'RelativeHumidity',\n",
       " 'RelativeHumidityFlag',\n",
       " 'WindSpeed',\n",
       " 'WindSpeedFlag',\n",
       " 'WindDirection',\n",
       " 'WindDirectionFlag',\n",
       " 'ValueForWindCharacter',\n",
       " 'ValueForWindCharacterFlag',\n",
       " 'StationPressure',\n",
       " 'StationPressureFlag',\n",
       " 'PressureTendency',\n",
       " 'PressureTendencyFlag',\n",
       " 'PressureChange',\n",
       " 'PressureChangeFlag',\n",
       " 'SeaLevelPressure',\n",
       " 'SeaLevelPressureFlag',\n",
       " 'RecordType',\n",
       " 'RecordTypeFlag',\n",
       " 'HourlyPrecip',\n",
       " 'HourlyPrecipFlag',\n",
       " 'Altimeter',\n",
       " 'AltimeterFlag']"
      ]
     },
     "execution_count": 29,
     "metadata": {},
     "output_type": "execute_result"
    }
   ],
   "source": [
    "csv_reader.fieldnames"
   ]
  },
  {
   "cell_type": "markdown",
   "metadata": {},
   "source": [
    "## Sample Entry"
   ]
  },
  {
   "cell_type": "code",
   "execution_count": 33,
   "metadata": {
    "collapsed": false
   },
   "outputs": [
    {
     "data": {
      "text/plain": [
       "{'Altimeter': '30.25',\n",
       " 'AltimeterFlag': ' ',\n",
       " 'Date': '20070501',\n",
       " 'DewPointCelsius': '-1.0',\n",
       " 'DewPointCelsiusFlag': ' ',\n",
       " 'DewPointFarenheit': '30',\n",
       " 'DewPointFarenheitFlag': ' ',\n",
       " 'DryBulbCelsius': '7.0',\n",
       " 'DryBulbCelsiusFlag': ' ',\n",
       " 'DryBulbFarenheit': '45',\n",
       " 'DryBulbFarenheitFlag': ' ',\n",
       " 'HourlyPrecip': ' ',\n",
       " 'HourlyPrecipFlag': ' ',\n",
       " 'PressureChange': ' ',\n",
       " 'PressureChangeFlag': ' ',\n",
       " 'PressureTendency': ' ',\n",
       " 'PressureTendencyFlag': ' ',\n",
       " 'RecordType': 'AA',\n",
       " 'RecordTypeFlag': ' ',\n",
       " 'RelativeHumidity': ' 56',\n",
       " 'RelativeHumidityFlag': ' ',\n",
       " 'SeaLevelPressure': 'M',\n",
       " 'SeaLevelPressureFlag': ' ',\n",
       " 'SkyCondition': 'CLR',\n",
       " 'SkyConditionFlag': ' ',\n",
       " 'StationPressure': '21.57',\n",
       " 'StationPressureFlag': ' ',\n",
       " 'StationType': '0',\n",
       " 'Time': '0050',\n",
       " 'ValueForWindCharacter': ' ',\n",
       " 'ValueForWindCharacterFlag': ' ',\n",
       " 'Visibility': '10.00',\n",
       " 'VisibilityFlag': ' ',\n",
       " 'WBAN': '03011',\n",
       " 'WeatherType': ' ',\n",
       " 'WeatherTypeFlag': ' ',\n",
       " 'WetBulbCelsius': '3.3',\n",
       " 'WetBulbCelsiusFlag': ' ',\n",
       " 'WetBulbFarenheit': '38',\n",
       " 'WetBulbFarenheitFlag': ' ',\n",
       " 'WindDirection': '140',\n",
       " 'WindDirectionFlag': ' ',\n",
       " 'WindSpeed': ' 5',\n",
       " 'WindSpeedFlag': ' '}"
      ]
     },
     "execution_count": 33,
     "metadata": {},
     "output_type": "execute_result"
    }
   ],
   "source": [
    "csv_reader = csv.DictReader(open('./WeatherDirs/QCLCD200705/200705hourly.txt', 'r'))\n",
    "csv_reader.next()"
   ]
  },
  {
   "cell_type": "code",
   "execution_count": null,
   "metadata": {
    "collapsed": true
   },
   "outputs": [],
   "source": []
  }
 ],
 "metadata": {
  "anaconda-cloud": {},
  "kernelspec": {
   "display_name": "Python [Root]",
   "language": "python",
   "name": "Python [Root]"
  },
  "language_info": {
   "codemirror_mode": {
    "name": "ipython",
    "version": 2
   },
   "file_extension": ".py",
   "mimetype": "text/x-python",
   "name": "python",
   "nbconvert_exporter": "python",
   "pygments_lexer": "ipython2",
   "version": "2.7.12"
  }
 },
 "nbformat": 4,
 "nbformat_minor": 0
}
