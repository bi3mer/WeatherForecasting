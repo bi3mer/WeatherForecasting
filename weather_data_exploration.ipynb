{
 "cells": [
  {
   "cell_type": "markdown",
   "metadata": {},
   "source": [
    "# Imports"
   ]
  },
  {
   "cell_type": "code",
   "execution_count": 1,
   "metadata": {
    "collapsed": false
   },
   "outputs": [],
   "source": [
    "from tqdm import tqdm_notebook as tqdm\n",
    "import matplotlib\n",
    "import time\n",
    "import csv"
   ]
  },
  {
   "cell_type": "code",
   "execution_count": 2,
   "metadata": {
    "collapsed": false
   },
   "outputs": [],
   "source": [
    "%matplotlib inline\n",
    "\n",
    "import matplotlib\n",
    "import numpy as np\n",
    "import matplotlib.pyplot as plt"
   ]
  },
  {
   "cell_type": "markdown",
   "metadata": {
    "collapsed": true
   },
   "source": [
    "# Sample Hourly Data"
   ]
  },
  {
   "cell_type": "markdown",
   "metadata": {},
   "source": [
    "## Count"
   ]
  },
  {
   "cell_type": "code",
   "execution_count": 3,
   "metadata": {
    "collapsed": false
   },
   "outputs": [],
   "source": [
    "csv_reader = csv.DictReader(open('./WeatherDirs/QCLCD200705/200705hourly.txt', 'r'))"
   ]
  },
  {
   "cell_type": "code",
   "execution_count": 4,
   "metadata": {
    "collapsed": false
   },
   "outputs": [
    {
     "name": "stdout",
     "output_type": "stream",
     "text": [
      "2141026\n"
     ]
    }
   ],
   "source": [
    "count = 0\n",
    "for i in csv_reader:\n",
    "    count += 1\n",
    "    \n",
    "print count"
   ]
  },
  {
   "cell_type": "markdown",
   "metadata": {
    "collapsed": true
   },
   "source": [
    "from one set of hourly data we have 2,141,026 entries. This is more than enough data and the rest of it while cool, is not necessary to get a good start"
   ]
  },
  {
   "cell_type": "markdown",
   "metadata": {},
   "source": [
    "## Field Names"
   ]
  },
  {
   "cell_type": "code",
   "execution_count": 5,
   "metadata": {
    "collapsed": false,
    "scrolled": true
   },
   "outputs": [
    {
     "data": {
      "text/plain": [
       "['WBAN',\n",
       " 'Date',\n",
       " 'Time',\n",
       " 'StationType',\n",
       " 'SkyCondition',\n",
       " 'SkyConditionFlag',\n",
       " 'Visibility',\n",
       " 'VisibilityFlag',\n",
       " 'WeatherType',\n",
       " 'WeatherTypeFlag',\n",
       " 'DryBulbFarenheit',\n",
       " 'DryBulbFarenheitFlag',\n",
       " 'DryBulbCelsius',\n",
       " 'DryBulbCelsiusFlag',\n",
       " 'WetBulbFarenheit',\n",
       " 'WetBulbFarenheitFlag',\n",
       " 'WetBulbCelsius',\n",
       " 'WetBulbCelsiusFlag',\n",
       " 'DewPointFarenheit',\n",
       " 'DewPointFarenheitFlag',\n",
       " 'DewPointCelsius',\n",
       " 'DewPointCelsiusFlag',\n",
       " 'RelativeHumidity',\n",
       " 'RelativeHumidityFlag',\n",
       " 'WindSpeed',\n",
       " 'WindSpeedFlag',\n",
       " 'WindDirection',\n",
       " 'WindDirectionFlag',\n",
       " 'ValueForWindCharacter',\n",
       " 'ValueForWindCharacterFlag',\n",
       " 'StationPressure',\n",
       " 'StationPressureFlag',\n",
       " 'PressureTendency',\n",
       " 'PressureTendencyFlag',\n",
       " 'PressureChange',\n",
       " 'PressureChangeFlag',\n",
       " 'SeaLevelPressure',\n",
       " 'SeaLevelPressureFlag',\n",
       " 'RecordType',\n",
       " 'RecordTypeFlag',\n",
       " 'HourlyPrecip',\n",
       " 'HourlyPrecipFlag',\n",
       " 'Altimeter',\n",
       " 'AltimeterFlag']"
      ]
     },
     "execution_count": 5,
     "metadata": {},
     "output_type": "execute_result"
    }
   ],
   "source": [
    "csv_reader.fieldnames"
   ]
  },
  {
   "cell_type": "markdown",
   "metadata": {},
   "source": [
    "## Sample Entry"
   ]
  },
  {
   "cell_type": "code",
   "execution_count": 20,
   "metadata": {
    "collapsed": false,
    "scrolled": false
   },
   "outputs": [],
   "source": [
    "csv_reader = csv.DictReader(open('./WeatherDirs/QCLCD200705/200705hourly.txt', 'r'))"
   ]
  },
  {
   "cell_type": "code",
   "execution_count": 19,
   "metadata": {
    "collapsed": false
   },
   "outputs": [
    {
     "data": {
      "text/plain": [
       "{'Altimeter': '30.24',\n",
       " 'AltimeterFlag': ' ',\n",
       " 'Date': '20070501',\n",
       " 'DewPointCelsius': '-1.0',\n",
       " 'DewPointCelsiusFlag': ' ',\n",
       " 'DewPointFarenheit': '30',\n",
       " 'DewPointFarenheitFlag': ' ',\n",
       " 'DryBulbCelsius': '6.0',\n",
       " 'DryBulbCelsiusFlag': ' ',\n",
       " 'DryBulbFarenheit': '43',\n",
       " 'DryBulbFarenheitFlag': ' ',\n",
       " 'HourlyPrecip': ' ',\n",
       " 'HourlyPrecipFlag': ' ',\n",
       " 'PressureChange': ' ',\n",
       " 'PressureChangeFlag': ' ',\n",
       " 'PressureTendency': ' ',\n",
       " 'PressureTendencyFlag': ' ',\n",
       " 'RecordType': 'AA',\n",
       " 'RecordTypeFlag': ' ',\n",
       " 'RelativeHumidity': ' 60',\n",
       " 'RelativeHumidityFlag': ' ',\n",
       " 'SeaLevelPressure': 'M',\n",
       " 'SeaLevelPressureFlag': ' ',\n",
       " 'SkyCondition': 'CLR',\n",
       " 'SkyConditionFlag': ' ',\n",
       " 'StationPressure': '21.56',\n",
       " 'StationPressureFlag': ' ',\n",
       " 'StationType': '0',\n",
       " 'Time': '0350',\n",
       " 'ValueForWindCharacter': ' ',\n",
       " 'ValueForWindCharacterFlag': ' ',\n",
       " 'Visibility': '10.00',\n",
       " 'VisibilityFlag': ' ',\n",
       " 'WBAN': '03011',\n",
       " 'WeatherType': ' ',\n",
       " 'WeatherTypeFlag': ' ',\n",
       " 'WetBulbCelsius': '2.7',\n",
       " 'WetBulbCelsiusFlag': ' ',\n",
       " 'WetBulbFarenheit': '37',\n",
       " 'WetBulbFarenheitFlag': ' ',\n",
       " 'WindDirection': '150',\n",
       " 'WindDirectionFlag': ' ',\n",
       " 'WindSpeed': ' 6',\n",
       " 'WindSpeedFlag': ' '}"
      ]
     },
     "execution_count": 19,
     "metadata": {},
     "output_type": "execute_result"
    }
   ],
   "source": [
    "csv_reader.next()"
   ]
  },
  {
   "cell_type": "markdown",
   "metadata": {
    "collapsed": true
   },
   "source": [
    "# Classification Types"
   ]
  },
  {
   "cell_type": "code",
   "execution_count": 24,
   "metadata": {
    "collapsed": true
   },
   "outputs": [],
   "source": [
    "csv_reader = csv.DictReader(open('./WeatherDirs/QCLCD200705/200705hourly.txt', 'r'))"
   ]
  },
  {
   "cell_type": "code",
   "execution_count": 25,
   "metadata": {
    "collapsed": false
   },
   "outputs": [
    {
     "name": "stdout",
     "output_type": "stream",
     "text": [
      "\n"
     ]
    },
    {
     "data": {
      "text/plain": [
       "{'  ': 200,\n",
       " ' 0': 264055,\n",
       " ' 1': 5441,\n",
       " ' 2': 10420,\n",
       " ' 3': 131265,\n",
       " ' 4': 8559,\n",
       " ' 5': 136558,\n",
       " ' 6': 136831,\n",
       " ' 7': 126804,\n",
       " ' 8': 114741,\n",
       " ' 9': 103853,\n",
       " '10': 87978,\n",
       " '11': 77871,\n",
       " '113': 1,\n",
       " '12': 911,\n",
       " '13': 61011,\n",
       " '14': 51611,\n",
       " '15': 40576,\n",
       " '16': 32636,\n",
       " '17': 26619,\n",
       " '18': 19968,\n",
       " '19': 170,\n",
       " '20': 15219,\n",
       " '21': 11834,\n",
       " '22': 8733,\n",
       " '23': 6731,\n",
       " '24': 4857,\n",
       " '25': 3737,\n",
       " '26': 2729,\n",
       " '27': 8,\n",
       " '28': 2038,\n",
       " '29': 1592,\n",
       " '30': 1030,\n",
       " '31': 749,\n",
       " '32': 554,\n",
       " '33': 377,\n",
       " '34': 266,\n",
       " '36': 189,\n",
       " '37': 145,\n",
       " '38': 110,\n",
       " '39': 68,\n",
       " '40': 83,\n",
       " '41': 47,\n",
       " '43': 48,\n",
       " '44': 40,\n",
       " '45': 34,\n",
       " '46': 27,\n",
       " '47': 15,\n",
       " '48': 24,\n",
       " '49': 14,\n",
       " '51': 18,\n",
       " '52': 20,\n",
       " '53': 9,\n",
       " '54': 9,\n",
       " '55': 13,\n",
       " '56': 6,\n",
       " '57': 10,\n",
       " '59': 6,\n",
       " '60': 6,\n",
       " '61': 7,\n",
       " '62': 4,\n",
       " '63': 4,\n",
       " '64': 6,\n",
       " '66': 3,\n",
       " '67': 3,\n",
       " '68': 2,\n",
       " '70': 3,\n",
       " '71': 1,\n",
       " '72': 1,\n",
       " '77': 1,\n",
       " 'M': 641517}"
      ]
     },
     "execution_count": 25,
     "metadata": {},
     "output_type": "execute_result"
    }
   ],
   "source": [
    "classifications = {}\n",
    "field = 'WindSpeed'\n",
    "\n",
    "# loop through data rows\n",
    "for row in tqdm(csv_reader):\n",
    "    if not row[field] in classifications:\n",
    "        classifications[row[field]] = 0\n",
    "        \n",
    "    classifications[row[field]] += 1\n",
    "    \n",
    "classifications"
   ]
  },
  {
   "cell_type": "markdown",
   "metadata": {},
   "source": [
    "# Format Data"
   ]
  },
  {
   "cell_type": "code",
   "execution_count": 127,
   "metadata": {
    "collapsed": true
   },
   "outputs": [],
   "source": [
    "csv_reader = csv.DictReader(open('./WeatherDirs/QCLCD200705/200705hourly.txt', 'r'))"
   ]
  },
  {
   "cell_type": "code",
   "execution_count": 128,
   "metadata": {
    "collapsed": false
   },
   "outputs": [
    {
     "name": "stdout",
     "output_type": "stream",
     "text": [
      "\n"
     ]
    },
    {
     "data": {
      "text/plain": [
       "40"
      ]
     },
     "execution_count": 128,
     "metadata": {},
     "output_type": "execute_result"
    }
   ],
   "source": [
    "bad_indexes = []\n",
    "for row in tqdm(csv_reader):\n",
    "    values = row.values()\n",
    "    \n",
    "    for i in range(len(values)):\n",
    "        try:\n",
    "            float(values[i])\n",
    "        except:\n",
    "            if i not in bad_indexes:\n",
    "                bad_indexes.append(i)\n",
    "            \n",
    "len(bad_indexes)"
   ]
  },
  {
   "cell_type": "code",
   "execution_count": 129,
   "metadata": {
    "collapsed": true
   },
   "outputs": [],
   "source": [
    "csv_reader = csv.DictReader(open('./WeatherDirs/QCLCD200705/200705hourly.txt', 'r'))"
   ]
  },
  {
   "cell_type": "code",
   "execution_count": 130,
   "metadata": {
    "collapsed": false
   },
   "outputs": [
    {
     "name": "stdout",
     "output_type": "stream",
     "text": [
      "\n"
     ]
    }
   ],
   "source": [
    "data    = []\n",
    "answers = []\n",
    "\n",
    "for row in tqdm(csv_reader):\n",
    "    if row[field].isdigit():\n",
    "        answers.append(int(row[field]))\n",
    "\n",
    "        data_vals = row.values()\n",
    "\n",
    "        # delete classification field with answer\n",
    "        for i in range(len(bad_indexes), 0, -1):\n",
    "            del data_vals[i]\n",
    "\n",
    "        data.append(data_vals)"
   ]
  },
  {
   "cell_type": "markdown",
   "metadata": {},
   "source": [
    "# Machine Learning Test"
   ]
  },
  {
   "cell_type": "code",
   "execution_count": 131,
   "metadata": {
    "collapsed": false
   },
   "outputs": [],
   "source": [
    "from sklearn import svm"
   ]
  },
  {
   "cell_type": "markdown",
   "metadata": {},
   "source": [
    "## Split Length"
   ]
  },
  {
   "cell_type": "code",
   "execution_count": 132,
   "metadata": {
    "collapsed": false
   },
   "outputs": [],
   "source": [
    "train_data = data[:(int(len(data) * .75))]\n",
    "train_answ = answers[:(int(len(data) * .75))]"
   ]
  },
  {
   "cell_type": "code",
   "execution_count": 133,
   "metadata": {
    "collapsed": true
   },
   "outputs": [],
   "source": [
    "test_data = data[(int(len(data) * .75)):]\n",
    "test_answ = answers[(int(len(data) * .75)):]"
   ]
  },
  {
   "cell_type": "markdown",
   "metadata": {},
   "source": [
    "## Fit Data"
   ]
  },
  {
   "cell_type": "code",
   "execution_count": 134,
   "metadata": {
    "collapsed": false
   },
   "outputs": [
    {
     "ename": "ValueError",
     "evalue": "could not convert string to float: ",
     "output_type": "error",
     "traceback": [
      "\u001b[0;31m---------------------------------------------------------------------------\u001b[0m",
      "\u001b[0;31mValueError\u001b[0m                                Traceback (most recent call last)",
      "\u001b[0;32m<ipython-input-134-6cecb4cf5146>\u001b[0m in \u001b[0;36m<module>\u001b[0;34m()\u001b[0m\n\u001b[1;32m      1\u001b[0m \u001b[0mclf\u001b[0m \u001b[0;34m=\u001b[0m \u001b[0msvm\u001b[0m\u001b[0;34m.\u001b[0m\u001b[0mSVC\u001b[0m\u001b[0;34m(\u001b[0m\u001b[0;34m)\u001b[0m\u001b[0;34m\u001b[0m\u001b[0m\n\u001b[0;32m----> 2\u001b[0;31m \u001b[0mclf\u001b[0m\u001b[0;34m.\u001b[0m\u001b[0mfit\u001b[0m\u001b[0;34m(\u001b[0m\u001b[0mtrain_data\u001b[0m\u001b[0;34m,\u001b[0m \u001b[0mtrain_answ\u001b[0m\u001b[0;34m)\u001b[0m\u001b[0;34m\u001b[0m\u001b[0m\n\u001b[0m",
      "\u001b[0;32m//anaconda/lib/python2.7/site-packages/sklearn/svm/base.pyc\u001b[0m in \u001b[0;36mfit\u001b[0;34m(self, X, y, sample_weight)\u001b[0m\n\u001b[1;32m    148\u001b[0m         \u001b[0mself\u001b[0m\u001b[0;34m.\u001b[0m\u001b[0m_sparse\u001b[0m \u001b[0;34m=\u001b[0m \u001b[0msparse\u001b[0m \u001b[0;32mand\u001b[0m \u001b[0;32mnot\u001b[0m \u001b[0mcallable\u001b[0m\u001b[0;34m(\u001b[0m\u001b[0mself\u001b[0m\u001b[0;34m.\u001b[0m\u001b[0mkernel\u001b[0m\u001b[0;34m)\u001b[0m\u001b[0;34m\u001b[0m\u001b[0m\n\u001b[1;32m    149\u001b[0m \u001b[0;34m\u001b[0m\u001b[0m\n\u001b[0;32m--> 150\u001b[0;31m         \u001b[0mX\u001b[0m \u001b[0;34m=\u001b[0m \u001b[0mcheck_array\u001b[0m\u001b[0;34m(\u001b[0m\u001b[0mX\u001b[0m\u001b[0;34m,\u001b[0m \u001b[0maccept_sparse\u001b[0m\u001b[0;34m=\u001b[0m\u001b[0;34m'csr'\u001b[0m\u001b[0;34m,\u001b[0m \u001b[0mdtype\u001b[0m\u001b[0;34m=\u001b[0m\u001b[0mnp\u001b[0m\u001b[0;34m.\u001b[0m\u001b[0mfloat64\u001b[0m\u001b[0;34m,\u001b[0m \u001b[0morder\u001b[0m\u001b[0;34m=\u001b[0m\u001b[0;34m'C'\u001b[0m\u001b[0;34m)\u001b[0m\u001b[0;34m\u001b[0m\u001b[0m\n\u001b[0m\u001b[1;32m    151\u001b[0m         \u001b[0my\u001b[0m \u001b[0;34m=\u001b[0m \u001b[0mself\u001b[0m\u001b[0;34m.\u001b[0m\u001b[0m_validate_targets\u001b[0m\u001b[0;34m(\u001b[0m\u001b[0my\u001b[0m\u001b[0;34m)\u001b[0m\u001b[0;34m\u001b[0m\u001b[0m\n\u001b[1;32m    152\u001b[0m \u001b[0;34m\u001b[0m\u001b[0m\n",
      "\u001b[0;32m//anaconda/lib/python2.7/site-packages/sklearn/utils/validation.pyc\u001b[0m in \u001b[0;36mcheck_array\u001b[0;34m(array, accept_sparse, dtype, order, copy, force_all_finite, ensure_2d, allow_nd, ensure_min_samples, ensure_min_features, warn_on_dtype, estimator)\u001b[0m\n\u001b[1;32m    371\u001b[0m                                       force_all_finite)\n\u001b[1;32m    372\u001b[0m     \u001b[0;32melse\u001b[0m\u001b[0;34m:\u001b[0m\u001b[0;34m\u001b[0m\u001b[0m\n\u001b[0;32m--> 373\u001b[0;31m         \u001b[0marray\u001b[0m \u001b[0;34m=\u001b[0m \u001b[0mnp\u001b[0m\u001b[0;34m.\u001b[0m\u001b[0marray\u001b[0m\u001b[0;34m(\u001b[0m\u001b[0marray\u001b[0m\u001b[0;34m,\u001b[0m \u001b[0mdtype\u001b[0m\u001b[0;34m=\u001b[0m\u001b[0mdtype\u001b[0m\u001b[0;34m,\u001b[0m \u001b[0morder\u001b[0m\u001b[0;34m=\u001b[0m\u001b[0morder\u001b[0m\u001b[0;34m,\u001b[0m \u001b[0mcopy\u001b[0m\u001b[0;34m=\u001b[0m\u001b[0mcopy\u001b[0m\u001b[0;34m)\u001b[0m\u001b[0;34m\u001b[0m\u001b[0m\n\u001b[0m\u001b[1;32m    374\u001b[0m \u001b[0;34m\u001b[0m\u001b[0m\n\u001b[1;32m    375\u001b[0m         \u001b[0;32mif\u001b[0m \u001b[0mensure_2d\u001b[0m\u001b[0;34m:\u001b[0m\u001b[0;34m\u001b[0m\u001b[0m\n",
      "\u001b[0;31mValueError\u001b[0m: could not convert string to float: "
     ]
    }
   ],
   "source": [
    "clf = svm.SVC()\n",
    "clf.fit(train_data, train_answ)  "
   ]
  },
  {
   "cell_type": "markdown",
   "metadata": {},
   "source": [
    "## Test Model"
   ]
  },
  {
   "cell_type": "code",
   "execution_count": null,
   "metadata": {
    "collapsed": false
   },
   "outputs": [],
   "source": []
  },
  {
   "cell_type": "code",
   "execution_count": null,
   "metadata": {
    "collapsed": true
   },
   "outputs": [],
   "source": []
  }
 ],
 "metadata": {
  "anaconda-cloud": {},
  "kernelspec": {
   "display_name": "Python [Root]",
   "language": "python",
   "name": "Python [Root]"
  },
  "language_info": {
   "codemirror_mode": {
    "name": "ipython",
    "version": 2
   },
   "file_extension": ".py",
   "mimetype": "text/x-python",
   "name": "python",
   "nbconvert_exporter": "python",
   "pygments_lexer": "ipython2",
   "version": "2.7.12"
  }
 },
 "nbformat": 4,
 "nbformat_minor": 0
}
